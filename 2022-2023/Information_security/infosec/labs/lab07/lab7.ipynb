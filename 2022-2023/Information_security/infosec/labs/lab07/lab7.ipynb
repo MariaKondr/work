{
 "cells": [
  {
   "cell_type": "markdown",
   "id": "0d0afdeb",
   "metadata": {},
   "source": [
    "1) Определить вид шифротекста при известном ключе и известном открытом тексте."
   ]
  },
  {
   "cell_type": "code",
   "execution_count": 1,
   "id": "4cd4b09d",
   "metadata": {},
   "outputs": [
    {
     "name": "stdout",
     "output_type": "stream",
     "text": [
      "Открытый текст:  С Новым Годом, друзья!\n"
     ]
    }
   ],
   "source": [
    "my_str = \"С Новым Годом, друзья!\"\n",
    "print(\"Открытый текст: \", my_str)"
   ]
  },
  {
   "cell_type": "code",
   "execution_count": 2,
   "id": "f5f76bd6",
   "metadata": {},
   "outputs": [],
   "source": [
    "def to_16(strM):\n",
    "    str_16 = []\n",
    "    for i in strM:\n",
    "        str_16.append((i.encode('cp1251')).hex().upper())\n",
    "    return str_16"
   ]
  },
  {
   "cell_type": "code",
   "execution_count": 3,
   "id": "5fabe438",
   "metadata": {},
   "outputs": [
    {
     "name": "stdout",
     "output_type": "stream",
     "text": [
      "Открытый текст в шестнадцатеричной представлении:  ['D1', '20', 'CD', 'EE', 'E2', 'FB', 'EC', '20', 'C3', 'EE', 'E4', 'EE', 'EC', '2C', '20', 'E4', 'F0', 'F3', 'E7', 'FC', 'FF', '21']\n"
     ]
    }
   ],
   "source": [
    "print(\"Открытый текст в шестнадцатеричной представлении: \", to_16(my_str))"
   ]
  },
  {
   "cell_type": "code",
   "execution_count": 4,
   "id": "c7d698f3",
   "metadata": {},
   "outputs": [
    {
     "name": "stdout",
     "output_type": "stream",
     "text": [
      "Ключ:  ['85', 'A4', '40', 'AC', '12', '0', '98', '98', '9F', 'BF', '14', '4B', '3B', '4F', 'D1', 'E4', 'C4', '9B', '24', '9A', '8', '81']\n"
     ]
    }
   ],
   "source": [
    "import random \n",
    "\n",
    "key = [hex(random.randint(0,255))[2:].upper() for _ in range(len(my_str))]\n",
    "print(\"Ключ: \", key)"
   ]
  },
  {
   "cell_type": "code",
   "execution_count": 5,
   "id": "d5f0c0cc",
   "metadata": {},
   "outputs": [],
   "source": [
    "def cipher_text(strM, keyM):\n",
    "    c_text = []\n",
    "    for i,k in zip(strM, keyM):\n",
    "        c_text.append(('{:02x}'.format(int(i,16) ^ int(k, 16))).upper())\n",
    "    return c_text"
   ]
  },
  {
   "cell_type": "code",
   "execution_count": 6,
   "id": "8f6ee083",
   "metadata": {},
   "outputs": [
    {
     "name": "stdout",
     "output_type": "stream",
     "text": [
      "Зашифрованный текст в шестнадцатеричном представлении:  ['54', '84', '8D', '42', 'F0', 'FB', '74', 'B8', '5C', '51', 'F0', 'A5', 'D7', '63', 'F1', '00', '34', '68', 'C3', '66', 'F7', 'A0']\n"
     ]
    }
   ],
   "source": [
    "mc_text = cipher_text(to_16(my_str), key)\n",
    "print(\"Зашифрованный текст в шестнадцатеричном представлении: \", mc_text)"
   ]
  },
  {
   "cell_type": "code",
   "execution_count": 7,
   "id": "bfcc0c1c",
   "metadata": {},
   "outputs": [
    {
     "name": "stdout",
     "output_type": "stream",
     "text": [
      "Зашифрованный текст:  ['T', '„', 'Ќ', 'B', 'р', 'ы', 't', 'ё', '\\\\', 'Q', 'р', 'Ґ', 'Ч', 'c', 'с', '\\x00', '4', 'h', 'Г', 'f', 'ч', '\\xa0']\n"
     ]
    }
   ],
   "source": [
    "new_text = [(bytes.fromhex(el)).decode('cp1251') for el in mc_text]\n",
    "print(\"Зашифрованный текст: \", new_text)"
   ]
  },
  {
   "cell_type": "markdown",
   "id": "6a66cea4",
   "metadata": {},
   "source": [
    "2) Оределить ключ, с помощью которого шифротекст может быть преобразован в некоторый фрагмент текста, представляющий собой один из возможных вариантов прочтения открытого текста."
   ]
  },
  {
   "cell_type": "code",
   "execution_count": 109,
   "id": "58fa91fa",
   "metadata": {},
   "outputs": [
    {
     "name": "stdout",
     "output_type": "stream",
     "text": [
      "Открытый текст:  С Новым Годом, друзья!\n",
      "Зашифрованный текст:  ['E', '“', '>', 'А', '№', 'Р', '9', '„', 'P', '\\x02', 'Х', 'р', 'Й', ':', 'ё', '{', 'Ґ', '·', 'ћ', 'А', 'З', 'у']\n"
     ]
    }
   ],
   "source": [
    "print(\"Открытый текст: \", my_str)\n",
    "print(\"Зашифрованный текст: \", new_text)"
   ]
  },
  {
   "cell_type": "code",
   "execution_count": 110,
   "id": "f2cd3794",
   "metadata": {},
   "outputs": [],
   "source": [
    "def find_key(str_16, c_text_16):\n",
    "    key_new = []\n",
    "    for i,j in zip(str_16, c_text_16):\n",
    "        key_new.append(('{:02x}'.format(int(i,16) ^ int(j, 16))).upper())\n",
    "    return key_new"
   ]
  },
  {
   "cell_type": "code",
   "execution_count": 111,
   "id": "e033c9c9",
   "metadata": {},
   "outputs": [
    {
     "name": "stdout",
     "output_type": "stream",
     "text": [
      "Найденный ключ:  ['94', 'B3', 'F3', '2E', '5B', '2B', 'D5', 'A4', '93', 'EC', '31', '1E', '25', '16', '98', '9F', '55', '44', '79', '3C', '38', 'D2']\n"
     ]
    }
   ],
   "source": [
    "print(\"Найденный ключ: \", find_key(to_16(my_str), to_16(new_text)))"
   ]
  },
  {
   "cell_type": "code",
   "execution_count": 115,
   "id": "eca02602",
   "metadata": {},
   "outputs": [
    {
     "name": "stdout",
     "output_type": "stream",
     "text": [
      "Ключ совпал с ранее созданным\n"
     ]
    }
   ],
   "source": [
    "if (find_key(to_16(my_str), to_16(new_text)) == key):\n",
    "    print(\"Ключ совпал с ранее созданным\")\n",
    "else:\n",
    "    print(\"Ключи различны\")"
   ]
  },
  {
   "cell_type": "code",
   "execution_count": null,
   "id": "e8b8366c",
   "metadata": {},
   "outputs": [],
   "source": []
  }
 ],
 "metadata": {
  "kernelspec": {
   "display_name": "Python 3",
   "language": "python",
   "name": "python3"
  },
  "language_info": {
   "codemirror_mode": {
    "name": "ipython",
    "version": 3
   },
   "file_extension": ".py",
   "mimetype": "text/x-python",
   "name": "python",
   "nbconvert_exporter": "python",
   "pygments_lexer": "ipython3",
   "version": "3.8.8"
  }
 },
 "nbformat": 4,
 "nbformat_minor": 5
}
