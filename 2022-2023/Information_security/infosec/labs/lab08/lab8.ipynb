{
 "cells": [
  {
   "cell_type": "markdown",
   "id": "cb05fb30",
   "metadata": {},
   "source": [
    "1. Два текста кодируются одним ключом (однократное гаммирование). Требуется не зная ключа и не стремясь его определить, прочитать оба текста. Необходимо разработать приложение, позволяющее шифровать и дешифровать тексты P1 и P2 в режиме однократного гаммирования. Приложение должно определить вид шифротекстов C1 и C2 обоих текстов P1 и P2 при известном ключе"
   ]
  },
  {
   "cell_type": "code",
   "execution_count": 19,
   "id": "753c6153",
   "metadata": {},
   "outputs": [
    {
     "name": "stdout",
     "output_type": "stream",
     "text": [
      "Открытые тексты:  НаВашисходящийот1204 ,  ВСеверныйфилиалБанка\n"
     ]
    }
   ],
   "source": [
    "t1 = 'НаВашисходящийот1204'\n",
    "t2 = 'ВСеверныйфилиалБанка'\n",
    "print(\"Открытые тексты: \", t1, \", \", t2)"
   ]
  },
  {
   "cell_type": "code",
   "execution_count": 20,
   "id": "c22fb285",
   "metadata": {},
   "outputs": [],
   "source": [
    "def to_16(strM):\n",
    "    str_16 = [(i.encode('cp1251')).hex().upper() for i in strM]\n",
    "    return str_16"
   ]
  },
  {
   "cell_type": "code",
   "execution_count": 21,
   "id": "04cae622",
   "metadata": {},
   "outputs": [
    {
     "name": "stdout",
     "output_type": "stream",
     "text": [
      "Открытые тексты в шестнадцатеричной представлении: \n",
      " ['CD', 'E0', 'C2', 'E0', 'F8', 'E8', 'F1', 'F5', 'EE', 'E4', 'FF', 'F9', 'E8', 'E9', 'EE', 'F2', '31', '32', '30', '34'] , \n",
      " ['C2', 'D1', 'E5', 'E2', 'E5', 'F0', 'ED', 'FB', 'E9', 'F4', 'E8', 'EB', 'E8', 'E0', 'EB', 'C1', 'E0', 'ED', 'EA', 'E0']\n"
     ]
    }
   ],
   "source": [
    "t1_16 = to_16(t1)\n",
    "t2_16 = to_16(t2)\n",
    "print(\"Открытые тексты в шестнадцатеричном представлении: \\n\", t1_16, \", \\n\", t2_16)"
   ]
  },
  {
   "cell_type": "code",
   "execution_count": 22,
   "id": "f9ee9cf7",
   "metadata": {},
   "outputs": [
    {
     "name": "stdout",
     "output_type": "stream",
     "text": [
      "Ключ:  ['51', 'CF', '88', '42', 'E5', '4D', '11', '50', '39', 'D', 'F3', '10', 'F6', '40', 'D5', 'E1', '48', 'CB', '7E', '46']\n"
     ]
    }
   ],
   "source": [
    "import random \n",
    "\n",
    "key = [hex(random.randint(0,255))[2:].upper() for _ in range(len(t1))]\n",
    "print(\"Ключ: \", key)"
   ]
  },
  {
   "cell_type": "code",
   "execution_count": 23,
   "id": "1a66aee5",
   "metadata": {},
   "outputs": [],
   "source": [
    "def cipher_text(strM, keyM):\n",
    "    c_text = [('{:02x}'.format(int(i,16) ^ int(k, 16))).upper() for i,k in zip(strM, keyM)]\n",
    "    return c_text"
   ]
  },
  {
   "cell_type": "code",
   "execution_count": 30,
   "id": "baa17b35",
   "metadata": {},
   "outputs": [
    {
     "name": "stdout",
     "output_type": "stream",
     "text": [
      "Зашифрованные тексты в шестнадцатеричном представлении:  \n",
      " ['9C', '2F', '4A', 'A2', '1D', 'A5', 'E0', 'A5', 'D7', 'E9', '0C', 'E9', '1E', 'A9', '3B', '13', '79', 'F9', '4E', '72'] , \n",
      " ['93', '1E', '6D', 'A0', '00', 'BD', 'FC', 'AB', 'D0', 'F9', '1B', 'FB', '1E', 'A0', '3E', '20', 'A8', '26', '94', 'A6']\n"
     ]
    }
   ],
   "source": [
    "t1_cipher_16 = cipher_text(t1_16, key)\n",
    "t2_cipher_16 = cipher_text(t2_16, key)\n",
    "print(\"Зашифрованные тексты в шестнадцатеричном представлении:  \\n\", t1_cipher_16, \", \\n\", t2_cipher_16)"
   ]
  },
  {
   "cell_type": "code",
   "execution_count": 31,
   "id": "f3036e45",
   "metadata": {},
   "outputs": [],
   "source": [
    "def cipher_text_al(strM): \n",
    "    al_text = [(bytes.fromhex(el)).decode('cp1251') for el in strM]\n",
    "    return al_text"
   ]
  },
  {
   "cell_type": "code",
   "execution_count": 33,
   "id": "e83376c7",
   "metadata": {},
   "outputs": [
    {
     "name": "stdout",
     "output_type": "stream",
     "text": [
      "Зашифрованные тексты: \n",
      " ['њ', '/', 'J', 'ў', '\\x1d', 'Ґ', 'а', 'Ґ', 'Ч', 'й', '\\x0c', 'й', '\\x1e', '©', ';', '\\x13', 'y', 'щ', 'N', 'r'] , \n",
      " ['“', '\\x1e', 'm', '\\xa0', '\\x00', 'Ѕ', 'ь', '«', 'Р', 'щ', '\\x1b', 'ы', '\\x1e', '\\xa0', '>', ' ', 'Ё', '&', '”', '¦']\n"
     ]
    }
   ],
   "source": [
    "t1_cipher_al = cipher_text_al(t1_cipher_16)\n",
    "t2_cipher_al = cipher_text_al(t2_cipher_16)\n",
    "print(\"Зашифрованные тексты: \\n\", t1_cipher_al, \", \\n\", t2_cipher_al)"
   ]
  },
  {
   "cell_type": "markdown",
   "id": "1ba44665",
   "metadata": {},
   "source": [
    "2. Необходимо определить и выразить аналитически способ, при котором злоумышленник может прочитать оба текста, не зная ключа и не стремясь его определить."
   ]
  },
  {
   "cell_type": "code",
   "execution_count": 38,
   "id": "5e9d5fda",
   "metadata": {},
   "outputs": [],
   "source": [
    "def find_t2 (t1_c16, t2_c16, t1):\n",
    "    t2_f = [('{:02x}'.format(int(c1,16) ^ int(c2, 16) ^ int(p1, 16))).upper() for c1,c2,p1 in zip(t1_c16, t2_c16, t1)]\n",
    "    return t2_f"
   ]
  },
  {
   "cell_type": "code",
   "execution_count": 43,
   "id": "d3dd8c5a",
   "metadata": {},
   "outputs": [
    {
     "name": "stdout",
     "output_type": "stream",
     "text": [
      "Поиск второго текста по известным шифрованным текстам и открытому первому тексту\n",
      "['C2', 'D1', 'E5', 'E2', 'E5', 'F0', 'ED', 'FB', 'E9', 'F4', 'E8', 'EB', 'E8', 'E0', 'EB', 'C1', 'E0', 'ED', 'EA', 'E0']\n",
      "['В', 'С', 'е', 'в', 'е', 'р', 'н', 'ы', 'й', 'ф', 'и', 'л', 'и', 'а', 'л', 'Б', 'а', 'н', 'к', 'а']\n",
      "\n",
      "Поиск первого текста по известным шифрованным текстам и открытому второму тексту\n",
      "['CD', 'E0', 'C2', 'E0', 'F8', 'E8', 'F1', 'F5', 'EE', 'E4', 'FF', 'F9', 'E8', 'E9', 'EE', 'F2', '31', '32', '30', '34']\n",
      "['Н', 'а', 'В', 'а', 'ш', 'и', 'с', 'х', 'о', 'д', 'я', 'щ', 'и', 'й', 'о', 'т', '1', '2', '0', '4']\n"
     ]
    }
   ],
   "source": [
    "t2_f_new = find_t2(t1_cipher_16, t2_cipher_16, t1_16)\n",
    "print(\"Поиск второго текста по известным шифрованным текстам и открытому первому тексту\")\n",
    "print(t2_f_new)\n",
    "print(cipher_text_al(t2_f_new))\n",
    "\n",
    "print(\"\\nПоиск первого текста по известным шифрованным текстам и открытому второму тексту\")\n",
    "t1_f_new = find_t2(t1_cipher_16, t2_cipher_16, t2_16)\n",
    "print(t1_f_new)\n",
    "print(cipher_text_al(t1_f_new))"
   ]
  },
  {
   "cell_type": "code",
   "execution_count": null,
   "id": "b48b155c",
   "metadata": {},
   "outputs": [],
   "source": []
  }
 ],
 "metadata": {
  "kernelspec": {
   "display_name": "Python 3",
   "language": "python",
   "name": "python3"
  },
  "language_info": {
   "codemirror_mode": {
    "name": "ipython",
    "version": 3
   },
   "file_extension": ".py",
   "mimetype": "text/x-python",
   "name": "python",
   "nbconvert_exporter": "python",
   "pygments_lexer": "ipython3",
   "version": "3.8.8"
  }
 },
 "nbformat": 4,
 "nbformat_minor": 5
}
